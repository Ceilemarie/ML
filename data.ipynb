import numpy as np  
import pandas as pd #for database
import matplotlib.pyplot as plt #visualization
import seaborn as sns 

import tensorflow as tf
print("Num GPU's Available'",len(tf.config.list_physical_devices('GPU')))
print(tf.config.list_physical_devices())
  
