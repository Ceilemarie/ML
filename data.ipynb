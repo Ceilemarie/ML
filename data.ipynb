import numpy as np  
import pandas as pd #for database
import matplotlib.pyplot as plt #visualization
import seaborn as sns 

import tensorflow as tf
print("Num GPU's Available'",len(tf.config.list_physical_devices('GPU')))
print(tf.config.list_physical_devices())


dataset = pd.read_csv(r"C:\Users\comlab04\Downloads\data\StressLevelDataset.csv")  
dataset.head()
dataset.shape
dataset.info()
# statistical summary
dataset.describe()
dataset.select_dtypes(include=['int64']).columns
len(dataset.select_dtypes(include=['int64']))

# dealing with missing null data

dataset.isnull().values.any()
dataset.isnull().values.sum()
dataset.isnull().sum()
dataset.columns[dataset.isnull().any()]
len(dataset.columns[dataset.isnull().any()])
plt.figure(figsize=(16,9))
sns.heatmap(dataset.isnull())

null_percent=dataset.isnull().sum()/dataset.shape[0]*100
null_percent
columns_to_drop= null_percent[null_percent > 60].keys()
len(columns_to_drop)
dataset.shape
dataset.columns[dataset.isnull().any()]
len(dataset.columns[dataset.isnull().any()])

# add columns means to numerical
dataset['anxiety_level']= dataset['anxiety_level'].fillna(dataset['anxiety_level'].mean())



# add colums means to categorical columns
dataset.select_dtypes(include = 'object').columns
dataset.columns[dataset.isnull().any()]
len(dataset.columns[dataset.isnull().any()])
dataset['anxiety_level']= dataset['anxiety_level'].fillna(dataset['anxiety_level'].mode())

#displot
plt.figure(figsize=(16,9))
bar=sns.palplot(dataset["anxiety_level"])
skewness = dataset['anxiety_level'].skew()
bar.legend([f"skewness: {dataset['anxiety_level'].skew():.2f}"])
plt.show()


plt.figure(figsize=(16,9))
sns.histplot(dataset['anxiety_level'], kde=True, color='skyblue', bins=30)
skewness = dataset['anxiety_level'].skew()
plt.text(x=dataset['anxiety_level'].max()*0.6, y=plt.gca().get_ylim()[1]*0.9,s=f"Skewness: {skewness:.2f}",fontsize=14,bbox=dict(facecolor='white', alpha=0.7, boxstyle='round,pad=0.5'))
plt.show()

# use numerical 

nuric_df= dataset.select_dtypes(include=("int64"))
correlations = nuric_df.corrwith(dataset['anxiety_level'])
correlations.plot.bar(figsize=(16,9), title='Correlated with anxiety_level', grid=True)















